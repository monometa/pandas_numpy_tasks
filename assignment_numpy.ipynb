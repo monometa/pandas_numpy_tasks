{
 "cells": [
  {
   "cell_type": "markdown",
   "id": "d3df79dd",
   "metadata": {},
   "source": [
    "## Упражнения по библиотеке Numpy"
   ]
  },
  {
   "cell_type": "code",
   "execution_count": 237,
   "id": "1b2df7e2",
   "metadata": {},
   "outputs": [],
   "source": [
    "import numpy as np"
   ]
  },
  {
   "cell_type": "markdown",
   "id": "03727b7c",
   "metadata": {},
   "source": [
    "**1.** Дан случайный массив, поменять знак у элементов, значения которых между 3 и 8"
   ]
  },
  {
   "cell_type": "code",
   "execution_count": 238,
   "id": "b89a7523",
   "metadata": {},
   "outputs": [
    {
     "data": {
      "text/plain": [
       "array([ 3,  1,  2,  2,  8, 11,  6,  2])"
      ]
     },
     "metadata": {},
     "output_type": "display_data"
    },
    {
     "data": {
      "text/plain": [
       "array([ 3,  1,  2,  2,  8, 11, -6,  2])"
      ]
     },
     "metadata": {},
     "output_type": "display_data"
    }
   ],
   "source": [
    "arr = np.random.randint(low=1, high=12, size = 8)\n",
    "display(arr)\n",
    "\n",
    "arr[(3 < arr) & (arr < 8)] *= -1\n",
    "display(arr)"
   ]
  },
  {
   "cell_type": "markdown",
   "id": "5fa4abda",
   "metadata": {},
   "source": [
    "**2.** Заменить максимальный элемент случайного массива на 0"
   ]
  },
  {
   "cell_type": "code",
   "execution_count": 239,
   "id": "f2788a6e",
   "metadata": {},
   "outputs": [
    {
     "data": {
      "text/plain": [
       "'given array: [10  1  7 10  5], max value is 10'"
      ]
     },
     "metadata": {},
     "output_type": "display_data"
    },
    {
     "data": {
      "text/plain": [
       "'modifed array: [0 1 7 0 5]'"
      ]
     },
     "metadata": {},
     "output_type": "display_data"
    }
   ],
   "source": [
    "arr = np.random.randint(low=1, high=12, size = 5)\n",
    "\n",
    "arr_max = max(arr)\n",
    "display(f'given array: {arr}, max value is {arr_max}')\n",
    "\n",
    "arr[arr == max(arr)] = 0\n",
    "display(f'modifed array: {arr}')"
   ]
  },
  {
   "cell_type": "markdown",
   "id": "3cac656b",
   "metadata": {},
   "source": [
    "**3.** Построить прямое произведение массивов (все комбинации с каждым элементом). На вход подается двумерный массив"
   ]
  },
  {
   "cell_type": "code",
   "execution_count": 240,
   "id": "3396b764",
   "metadata": {},
   "outputs": [
    {
     "data": {
      "text/plain": [
       "array([[ 2, 11],\n",
       "       [ 2,  5],\n",
       "       [ 2, 10],\n",
       "       [ 2,  8],\n",
       "       [ 2,  7],\n",
       "       [ 2, 10],\n",
       "       [ 2,  2],\n",
       "       [ 2,  2],\n",
       "       [ 2,  9],\n",
       "       [ 2,  1],\n",
       "       [ 8, 11],\n",
       "       [ 8,  5],\n",
       "       [ 8, 10],\n",
       "       [ 8,  8],\n",
       "       [ 8,  7],\n",
       "       [ 8, 10],\n",
       "       [ 8,  2],\n",
       "       [ 8,  2],\n",
       "       [ 8,  9],\n",
       "       [ 8,  1],\n",
       "       [ 8, 11],\n",
       "       [ 8,  5],\n",
       "       [ 8, 10],\n",
       "       [ 8,  8],\n",
       "       [ 8,  7],\n",
       "       [ 8, 10],\n",
       "       [ 8,  2],\n",
       "       [ 8,  2],\n",
       "       [ 8,  9],\n",
       "       [ 8,  1],\n",
       "       [ 9, 11],\n",
       "       [ 9,  5],\n",
       "       [ 9, 10],\n",
       "       [ 9,  8],\n",
       "       [ 9,  7],\n",
       "       [ 9, 10],\n",
       "       [ 9,  2],\n",
       "       [ 9,  2],\n",
       "       [ 9,  9],\n",
       "       [ 9,  1],\n",
       "       [ 4, 11],\n",
       "       [ 4,  5],\n",
       "       [ 4, 10],\n",
       "       [ 4,  8],\n",
       "       [ 4,  7],\n",
       "       [ 4, 10],\n",
       "       [ 4,  2],\n",
       "       [ 4,  2],\n",
       "       [ 4,  9],\n",
       "       [ 4,  1],\n",
       "       [ 7, 11],\n",
       "       [ 7,  5],\n",
       "       [ 7, 10],\n",
       "       [ 7,  8],\n",
       "       [ 7,  7],\n",
       "       [ 7, 10],\n",
       "       [ 7,  2],\n",
       "       [ 7,  2],\n",
       "       [ 7,  9],\n",
       "       [ 7,  1],\n",
       "       [ 5, 11],\n",
       "       [ 5,  5],\n",
       "       [ 5, 10],\n",
       "       [ 5,  8],\n",
       "       [ 5,  7],\n",
       "       [ 5, 10],\n",
       "       [ 5,  2],\n",
       "       [ 5,  2],\n",
       "       [ 5,  9],\n",
       "       [ 5,  1],\n",
       "       [ 1, 11],\n",
       "       [ 1,  5],\n",
       "       [ 1, 10],\n",
       "       [ 1,  8],\n",
       "       [ 1,  7],\n",
       "       [ 1, 10],\n",
       "       [ 1,  2],\n",
       "       [ 1,  2],\n",
       "       [ 1,  9],\n",
       "       [ 1,  1],\n",
       "       [ 6, 11],\n",
       "       [ 6,  5],\n",
       "       [ 6, 10],\n",
       "       [ 6,  8],\n",
       "       [ 6,  7],\n",
       "       [ 6, 10],\n",
       "       [ 6,  2],\n",
       "       [ 6,  2],\n",
       "       [ 6,  9],\n",
       "       [ 6,  1],\n",
       "       [ 4, 11],\n",
       "       [ 4,  5],\n",
       "       [ 4, 10],\n",
       "       [ 4,  8],\n",
       "       [ 4,  7],\n",
       "       [ 4, 10],\n",
       "       [ 4,  2],\n",
       "       [ 4,  2],\n",
       "       [ 4,  9],\n",
       "       [ 4,  1]])"
      ]
     },
     "metadata": {},
     "output_type": "display_data"
    }
   ],
   "source": [
    "arr_2d = np.random.randint(low=1, high=12, size = (2, 10))\n",
    "\n",
    "# v.1\n",
    "# combinations = np.array([(i,j) for i in arr_2d[0] for j in arr_2d[1]])\n",
    "# display(combinations)\n",
    "\n",
    "# v.2\n",
    "def cartesian(arrays):\n",
    "    arrays = [np.asarray(a) for a in arrays]\n",
    "    shape = (len(x) for x in arrays)\n",
    "\n",
    "    ix = np.indices(shape, dtype=int)\n",
    "    ix = ix.reshape(len(arrays), -1).T\n",
    "\n",
    "    for n, arr in enumerate(arrays):\n",
    "        ix[:, n] = arrays[n][ix[:, n]]\n",
    "\n",
    "    return ix\n",
    "\n",
    "display(cartesian(arr_2d))"
   ]
  },
  {
   "cell_type": "markdown",
   "id": "674c9354",
   "metadata": {},
   "source": [
    "**4.** Даны 2 массива A (8x3) и B (2x2). Найти строки в A, которые содержат элементы из каждой строки в B, независимо от порядка элементов в B"
   ]
  },
  {
   "cell_type": "code",
   "execution_count": 241,
   "id": "cb664782",
   "metadata": {},
   "outputs": [
    {
     "data": {
      "text/plain": [
       "array([[3, 1, 2],\n",
       "       [0, 1, 1],\n",
       "       [3, 4, 2],\n",
       "       [4, 2, 0],\n",
       "       [4, 1, 3],\n",
       "       [0, 3, 0],\n",
       "       [1, 4, 3],\n",
       "       [3, 1, 4]])"
      ]
     },
     "metadata": {},
     "output_type": "display_data"
    },
    {
     "data": {
      "text/plain": [
       "array([[2, 1],\n",
       "       [2, 0]])"
      ]
     },
     "metadata": {},
     "output_type": "display_data"
    },
    {
     "data": {
      "text/plain": [
       "array([0, 1, 2, 3])"
      ]
     },
     "metadata": {},
     "output_type": "display_data"
    }
   ],
   "source": [
    "# # Example:\n",
    "# A = np.array([[4, 1, 4],\n",
    "#         [4, 3, 4],\n",
    "#         [4, 1, 0],\n",
    "#         [0, 0, 4],\n",
    "#         [4, 4, 3],\n",
    "#         [3, 2, 4],\n",
    "#         [3, 0, 3],\n",
    "#         [0, 4, 2]])\n",
    "# B = np.array([[3, 3],\n",
    "#         [1, 4]])\n",
    "# rows = [1, 4, 5]\n",
    "\n",
    "# np.newaxis - https://stackoverflow.com/questions/29241056/how-do-i-use-np-newaxis\n",
    "# np.ndarray[...] - https://stackoverflow.com/questions/42190783/what-does-three-dots-in-python-mean-when-indexing-what-looks-like-a-number\n",
    "\n",
    "A = np.random.randint(0,5,(8,3))\n",
    "B = np.random.randint(0,5,(2,2))\n",
    "\n",
    "C = (A[..., np.newaxis, np.newaxis] == B)\n",
    "rows = np.where(C.any((3,1)).all(1))[0]\n",
    "display(A,B,rows)"
   ]
  },
  {
   "cell_type": "markdown",
   "id": "fa46533b",
   "metadata": {},
   "source": [
    "**5.** Дана 10x3 матрица, найти строки из неравных значений (например строка [2,2,3] остается, строка [3,3,3] удаляется)"
   ]
  },
  {
   "cell_type": "code",
   "execution_count": 242,
   "id": "fa545b23",
   "metadata": {},
   "outputs": [
    {
     "data": {
      "text/plain": [
       "(array([[2, 1, 1],\n",
       "        [1, 1, 2],\n",
       "        [1, 2, 1],\n",
       "        [2, 2, 2],\n",
       "        [1, 1, 1],\n",
       "        [2, 2, 2],\n",
       "        [1, 1, 1],\n",
       "        [2, 1, 2],\n",
       "        [2, 2, 1],\n",
       "        [1, 1, 2]]),\n",
       " [3, 4, 5, 6])"
      ]
     },
     "execution_count": 242,
     "metadata": {},
     "output_type": "execute_result"
    }
   ],
   "source": [
    "arr = np.random.randint(low=1, high=3, size = (10, 3))\n",
    "\n",
    "row_indexes = []\n",
    "\n",
    "for index, row in enumerate(arr):\n",
    "    if len(set(row)) == 1: row_indexes.append(index) \n",
    "\n",
    "arr, row_indexes"
   ]
  },
  {
   "cell_type": "markdown",
   "id": "28f0d116",
   "metadata": {},
   "source": [
    "**6.** Дан двумерный массив. Удалить те строки, которые повторяются"
   ]
  },
  {
   "cell_type": "code",
   "execution_count": 243,
   "id": "83d2c0b7",
   "metadata": {},
   "outputs": [
    {
     "data": {
      "text/plain": [
       "(array([[1, 1],\n",
       "        [1, 3],\n",
       "        [3, 1],\n",
       "        [1, 2],\n",
       "        [3, 2],\n",
       "        [2, 2],\n",
       "        [2, 2],\n",
       "        [3, 1],\n",
       "        [2, 1],\n",
       "        [1, 3]]),\n",
       " array([[1, 1],\n",
       "        [1, 2],\n",
       "        [1, 3],\n",
       "        [2, 1],\n",
       "        [2, 2],\n",
       "        [3, 1],\n",
       "        [3, 2]]))"
      ]
     },
     "execution_count": 243,
     "metadata": {},
     "output_type": "execute_result"
    }
   ],
   "source": [
    "arr_2d = np.random.randint(low=1, high=4, size = (10, 2))\n",
    "\n",
    "arr_2d, np.unique(arr_2d, axis=0)"
   ]
  },
  {
   "cell_type": "markdown",
   "id": "6daa9e37",
   "metadata": {},
   "source": [
    "______\n",
    "______"
   ]
  },
  {
   "cell_type": "markdown",
   "id": "cfbfcaff",
   "metadata": {},
   "source": [
    "Для каждой из следующих задач (1-5) нужно привести 2 реализации – одна без использования numpy (cчитайте, что там, где на входе или выходе должны быть numpy array, будут просто списки), а вторая полностью векторизованная с использованием numpy (без использования питоновских циклов/map/list comprehension).\n",
    "\n",
    "\n",
    "__Замечание 1.__ Можно считать, что все указанные объекты непустые (к примеру, в __задаче 1__ на диагонали матрицы есть ненулевые элементы).\n",
    "\n",
    "__Замечание 2.__ Для большинства задач решение занимает не больше 1-2 строк."
   ]
  },
  {
   "cell_type": "markdown",
   "id": "673cac7f",
   "metadata": {},
   "source": [
    "___"
   ]
  },
  {
   "cell_type": "markdown",
   "id": "ca6f585e",
   "metadata": {},
   "source": [
    "* __Задача 1__: Подсчитать произведение ненулевых элементов на диагонали прямоугольной матрицы.  \n",
    " Например, для X = np.array([[1, 0, 1], [2, 0, 2], [3, 0, 3], [4, 4, 4]]) ответ 3."
   ]
  },
  {
   "cell_type": "code",
   "execution_count": 244,
   "id": "065862fc",
   "metadata": {},
   "outputs": [
    {
     "data": {
      "text/plain": [
       "3"
      ]
     },
     "metadata": {},
     "output_type": "display_data"
    },
    {
     "data": {
      "text/plain": [
       "3"
      ]
     },
     "execution_count": 244,
     "metadata": {},
     "output_type": "execute_result"
    }
   ],
   "source": [
    "X = np.array([[1, 0, 1], [2, 0, 2], [3, 0, 3], [4, 4, 4]])\n",
    "\n",
    "# Python approach\n",
    "product = 1\n",
    "for index_r, row in enumerate(X):\n",
    "    for index_e, elem in enumerate(row):\n",
    "        if index_r == index_e and elem != 0: product *= elem \n",
    "display(product)\n",
    "\n",
    "# NumPy approach\n",
    "diag_arr = np.diagonal(X)\n",
    "np.prod(diag_arr[diag_arr != 0])"
   ]
  },
  {
   "cell_type": "markdown",
   "id": "9fc51d41",
   "metadata": {},
   "source": [
    "* __Задача 2__: Даны два вектора x и y. Проверить, задают ли они одно и то же мультимножество.  \n",
    "  Например, для x = np.array([1, 2, 2, 4]), y = np.array([4, 2, 1, 2]) ответ True."
   ]
  },
  {
   "cell_type": "code",
   "execution_count": 245,
   "id": "a809e02f",
   "metadata": {},
   "outputs": [
    {
     "data": {
      "text/plain": [
       "True"
      ]
     },
     "metadata": {},
     "output_type": "display_data"
    },
    {
     "data": {
      "text/plain": [
       "True"
      ]
     },
     "metadata": {},
     "output_type": "display_data"
    }
   ],
   "source": [
    "x = np.array([1, 2, 2, 4])\n",
    "y = np.array([4, 2, 1, 2])\n",
    "\n",
    "# NumPy approach \n",
    "display(x.shape == y.shape and np.array_equal(np.sort(x), np.sort(y)))\n",
    "\n",
    "# Python approach\n",
    "def equal_multisets(x, y):\n",
    "    x.sort()\n",
    "    y.sort()\n",
    "    if len(x) != len(y): return False\n",
    "    for i in range(len(x)):\n",
    "        if x[i] != y[i]: return False\n",
    "    return True\n",
    "\n",
    "display(equal_multisets(x,y))"
   ]
  },
  {
   "cell_type": "markdown",
   "id": "b9c185c7",
   "metadata": {},
   "source": [
    "* __Задача 3__: Найти максимальный элемент в векторе x среди элементов, перед которыми стоит ноль. \n",
    " Например, для x = np.array([6, 2, 0, 3, 0, 0, 5, 7, 0]) ответ 5."
   ]
  },
  {
   "cell_type": "code",
   "execution_count": 246,
   "id": "b57df008",
   "metadata": {},
   "outputs": [
    {
     "data": {
      "text/plain": [
       "7"
      ]
     },
     "metadata": {},
     "output_type": "display_data"
    },
    {
     "data": {
      "text/plain": [
       "7"
      ]
     },
     "execution_count": 246,
     "metadata": {},
     "output_type": "execute_result"
    }
   ],
   "source": [
    "x = np.array([6, 2, 0, 3, 0, 0, 5, 0, 7, 0])\n",
    "\n",
    "# Python approach\n",
    "display(max(x[i] for i in range(1, len(x)) if not x[i-1]))\n",
    "\n",
    "# NumPy approach\n",
    "zero = x == 0\n",
    "x[1:][zero[:-1]].max()"
   ]
  },
  {
   "cell_type": "markdown",
   "id": "480be4ce",
   "metadata": {},
   "source": [
    "* __Задача 4__: Реализовать кодирование длин серий (Run-length encoding). Для некоторого вектора x необходимо вернуть кортеж из двух векторов одинаковой длины. Первый содержит числа, а второй - сколько раз их нужно повторить.  \n",
    " Например, для x = np.array([2, 2, 2, 3, 3, 3, 5]) ответ (np.array([2, 3, 5]), np.array([3, 3, 1]))."
   ]
  },
  {
   "cell_type": "code",
   "execution_count": 247,
   "id": "3c592124",
   "metadata": {},
   "outputs": [
    {
     "data": {
      "text/plain": [
       "(2, 3, 5)"
      ]
     },
     "metadata": {},
     "output_type": "display_data"
    },
    {
     "data": {
      "text/plain": [
       "(3, 3, 1)"
      ]
     },
     "metadata": {},
     "output_type": "display_data"
    },
    {
     "data": {
      "text/plain": [
       "array([2, 3, 5])"
      ]
     },
     "metadata": {},
     "output_type": "display_data"
    },
    {
     "data": {
      "text/plain": [
       "array([3, 3, 1])"
      ]
     },
     "metadata": {},
     "output_type": "display_data"
    }
   ],
   "source": [
    "from collections import Counter\n",
    "\n",
    "x = np.array([2, 2, 2, 3, 3, 3, 5]) \n",
    "# out_num, out_rep = (np.array([2, 3, 5]), np.array([3, 3, 1]))\n",
    "\n",
    "# Python approach \n",
    "a, b = zip(*Counter(x).items())\n",
    "display(a, b)\n",
    "\n",
    "# NumPy approach\n",
    "unique, counts = np.unique(x, return_counts=True)\n",
    "display(unique, counts)"
   ]
  },
  {
   "cell_type": "code",
   "execution_count": 248,
   "id": "e52a9770",
   "metadata": {},
   "outputs": [
    {
     "name": "stderr",
     "output_type": "stream",
     "text": [
      "UsageError: %%time is a cell magic, but the cell body is empty. Did you mean the line magic %time (single %)?\n"
     ]
    }
   ],
   "source": [
    "%%time"
   ]
  },
  {
   "cell_type": "markdown",
   "id": "077532ec",
   "metadata": {},
   "source": [
    "* __Задача 5__: Даны две выборки объектов - X и Y. Вычислить матрицу евклидовых расстояний между объектами. Сравните с функцией scipy.spatial.distance.cdist по скорости работы."
   ]
  },
  {
   "cell_type": "code",
   "execution_count": 249,
   "id": "1e807797",
   "metadata": {},
   "outputs": [],
   "source": [
    "from scipy.spatial.distance import cdist\n",
    "\n",
    "coords = np.array([(35.0456, -85.2672),\n",
    "          (35.1174, -89.9711),\n",
    "          (35.9728, -83.9422),\n",
    "          (36.1667, -86.7833)])\n",
    "\n",
    "# NumPy approach\n",
    "def cdist_numpy(X: np.ndarray, Y: np.ndarray) -> np.ndarray:\n",
    "    P = np.add.outer(np.sum(X**2, axis=1), np.sum(Y**2, axis=1))\n",
    "    N = np.dot(X, Y.T)\n",
    "    dists = np.sqrt(P - 2*N)\n",
    "    return dists\n",
    "\n",
    "# Python approach\n",
    "def distance(x,y):\n",
    "    return ((x[0]-y[0])**2+(x[1]-y[1])**2)**0.5\n",
    "\n",
    "\n",
    "def cdist_python(A, B):\n",
    "    dists =[]\n",
    "    for i in range(len(A)):\n",
    "        row=[]\n",
    "        for j in range(len(B)):\n",
    "            row.append(distance(A[i],B[j]))\n",
    "        dists.append(row)\n",
    "    return dists \n"
   ]
  },
  {
   "cell_type": "code",
   "execution_count": 250,
   "id": "f25771b3",
   "metadata": {},
   "outputs": [
    {
     "name": "stdout",
     "output_type": "stream",
     "text": [
      "CPU times: user 88 µs, sys: 38 µs, total: 126 µs\n",
      "Wall time: 130 µs\n"
     ]
    },
    {
     "data": {
      "text/plain": [
       "array([[0.        , 4.70444794, 1.6171966 , 1.88558331],\n",
       "       [4.70444794, 0.        , 6.0892811 , 3.35605413],\n",
       "       [1.6171966 , 6.0892811 , 0.        , 2.84770898],\n",
       "       [1.88558331, 3.35605413, 2.84770898, 0.        ]])"
      ]
     },
     "execution_count": 250,
     "metadata": {},
     "output_type": "execute_result"
    }
   ],
   "source": [
    "%%time \n",
    "cdist_numpy(coords, coords)"
   ]
  },
  {
   "cell_type": "code",
   "execution_count": 251,
   "id": "c9c541e3",
   "metadata": {},
   "outputs": [
    {
     "name": "stdout",
     "output_type": "stream",
     "text": [
      "CPU times: user 26 µs, sys: 11 µs, total: 37 µs\n",
      "Wall time: 38.9 µs\n"
     ]
    },
    {
     "data": {
      "text/plain": [
       "array([[0.        , 4.70444794, 1.6171966 , 1.88558331],\n",
       "       [4.70444794, 0.        , 6.0892811 , 3.35605413],\n",
       "       [1.6171966 , 6.0892811 , 0.        , 2.84770898],\n",
       "       [1.88558331, 3.35605413, 2.84770898, 0.        ]])"
      ]
     },
     "execution_count": 251,
     "metadata": {},
     "output_type": "execute_result"
    }
   ],
   "source": [
    "%%time \n",
    "cdist(coords, coords)"
   ]
  },
  {
   "cell_type": "code",
   "execution_count": 252,
   "id": "1a11228e",
   "metadata": {},
   "outputs": [
    {
     "name": "stdout",
     "output_type": "stream",
     "text": [
      "CPU times: user 55 µs, sys: 0 ns, total: 55 µs\n",
      "Wall time: 58.2 µs\n"
     ]
    },
    {
     "data": {
      "text/plain": [
       "[[0.0, 4.704447943170383, 1.6171965990565296, 1.8855833102782755],\n",
       " [4.704447943170383, 0.0, 6.089281104531148, 3.3560541309698886],\n",
       " [1.6171965990565296, 6.089281104531148, 0.0, 2.8477089774062208],\n",
       " [1.8855833102782755, 3.3560541309698886, 2.8477089774062208, 0.0]]"
      ]
     },
     "execution_count": 252,
     "metadata": {},
     "output_type": "execute_result"
    }
   ],
   "source": [
    "%%time \n",
    "cdist_python(coords, coords)"
   ]
  },
  {
   "cell_type": "markdown",
   "id": "973e8064",
   "metadata": {},
   "source": [
    "_______\n",
    "________"
   ]
  },
  {
   "cell_type": "markdown",
   "id": "1104acb7",
   "metadata": {},
   "source": [
    "* #### __Задача 6__: CrunchieMunchies __*__\n",
    "\n",
    "Вы работаете в отделе маркетинга пищевой компании MyCrunch, которая разрабатывает новый вид вкусных, полезных злаков под названием **CrunchieMunchies**.\n",
    "\n",
    "Вы хотите продемонстрировать потребителям, насколько полезны ваши хлопья по сравнению с другими ведущими брендами, поэтому вы собрали данные о питании нескольких разных конкурентов.\n",
    "\n",
    "Ваша задача - использовать вычисления Numpy для анализа этих данных и доказать, что ваши **СrunchieMunchies** - самый здоровый выбор для потребителей.\n"
   ]
  },
  {
   "cell_type": "code",
   "execution_count": 253,
   "id": "10a77f8d",
   "metadata": {},
   "outputs": [],
   "source": [
    "import numpy as np"
   ]
  },
  {
   "cell_type": "markdown",
   "id": "ab87cb03",
   "metadata": {},
   "source": [
    "1. Просмотрите файл cereal.csv. Этот файл содержит количества калорий для различных марок хлопьев. Загрузите данные из файла и сохраните их как calorie_stats."
   ]
  },
  {
   "cell_type": "code",
   "execution_count": 254,
   "id": "9681ebf2",
   "metadata": {},
   "outputs": [
    {
     "data": {
      "text/plain": [
       "array([ 70., 120.,  70.,  50., 110., 110., 110., 130.,  90.,  90., 120.,\n",
       "       110., 120., 110., 110., 110., 100., 110., 110., 110., 100., 110.,\n",
       "       100., 100., 110., 110., 100., 120., 120., 110., 100., 110., 100.,\n",
       "       110., 120., 120., 110., 110., 110., 140., 110., 100., 110., 100.,\n",
       "       150., 150., 160., 100., 120., 140.,  90., 130., 120., 100.,  50.,\n",
       "        50., 100., 100., 120., 100.,  90., 110., 110.,  80.,  90.,  90.,\n",
       "       110., 110.,  90., 110., 140., 100., 110., 110., 100., 100., 110.])"
      ]
     },
     "execution_count": 254,
     "metadata": {},
     "output_type": "execute_result"
    }
   ],
   "source": [
    "calorie_stats = np.loadtxt(\"./data/cereal.csv\", delimiter=\",\")\n",
    "calorie_stats"
   ]
  },
  {
   "cell_type": "markdown",
   "id": "139cfbd8",
   "metadata": {},
   "source": [
    "2. В одной порции CrunchieMunchies содержится 60 калорий. Насколько выше среднее количество калорий у ваших конкурентов?\n",
    "\n",
    "Сохраните ответ в переменной average_calories и распечатайте переменную в терминале"
   ]
  },
  {
   "cell_type": "code",
   "execution_count": 255,
   "id": "7036d240",
   "metadata": {},
   "outputs": [
    {
     "data": {
      "text/plain": [
       "46.88"
      ]
     },
     "execution_count": 255,
     "metadata": {},
     "output_type": "execute_result"
    }
   ],
   "source": [
    "round(np.average(calorie_stats) - 60, 2)"
   ]
  },
  {
   "cell_type": "markdown",
   "id": "b2ddb4cd",
   "metadata": {},
   "source": [
    "3. Корректно ли среднее количество калорий отражает распределение набора данных? Давайте отсортируем данные и посмотрим.\n",
    "\n",
    "Отсортируйте данные и сохраните результат в переменной calorie_stats_sorted. Распечатайте отсортированную информацию"
   ]
  },
  {
   "cell_type": "code",
   "execution_count": 256,
   "id": "46eeb4ed",
   "metadata": {},
   "outputs": [
    {
     "data": {
      "text/plain": [
       "array([ 50.,  50.,  50.,  70.,  70.,  80.,  90.,  90.,  90.,  90.,  90.,\n",
       "        90.,  90., 100., 100., 100., 100., 100., 100., 100., 100., 100.,\n",
       "       100., 100., 100., 100., 100., 100., 100., 100., 110., 110., 110.,\n",
       "       110., 110., 110., 110., 110., 110., 110., 110., 110., 110., 110.,\n",
       "       110., 110., 110., 110., 110., 110., 110., 110., 110., 110., 110.,\n",
       "       110., 110., 110., 110., 120., 120., 120., 120., 120., 120., 120.,\n",
       "       120., 120., 120., 130., 130., 140., 140., 140., 150., 150., 160.])"
      ]
     },
     "execution_count": 256,
     "metadata": {},
     "output_type": "execute_result"
    }
   ],
   "source": [
    "calorie_stats_sorted = np.sort(calorie_stats)\n",
    "calorie_stats_sorted"
   ]
  },
  {
   "cell_type": "markdown",
   "id": "4dc74116",
   "metadata": {},
   "source": [
    "4. Похоже, что большинство значений выше среднего. Давайте посмотрим, является ли медиана наиболее корректным показателем набора данных.\n",
    "\n",
    "Вычислите медиану набора данных и сохраните свой ответ в median_calories. Выведите медиану, чтобы вы могли видеть, как она сравнивается со средним значением."
   ]
  },
  {
   "cell_type": "code",
   "execution_count": 257,
   "id": "b56627c3",
   "metadata": {},
   "outputs": [
    {
     "data": {
      "text/plain": [
       "110.0"
      ]
     },
     "execution_count": 257,
     "metadata": {},
     "output_type": "execute_result"
    }
   ],
   "source": [
    "median_calories = np.median(calorie_stats)\n",
    "median_calories"
   ]
  },
  {
   "cell_type": "markdown",
   "id": "a63ab72f",
   "metadata": {},
   "source": [
    "5. В то время как медиана показывает, что по крайней мере половина наших значений составляет более 100 калорий, было бы более впечатляюще показать, что значительная часть конкурентов имеет более высокое количество калорий, чем CrunchieMunchies.\n",
    "\n",
    "Рассчитайте различные процентили и распечатайте их, пока не найдете наименьший процентиль, превышающий 60 калорий. Сохраните это значение в переменной nth_percentile."
   ]
  },
  {
   "cell_type": "code",
   "execution_count": 258,
   "id": "fe80ce03",
   "metadata": {},
   "outputs": [
    {
     "name": "stdout",
     "output_type": "stream",
     "text": [
      "0 50.0\n",
      "1 50.0\n",
      "2 50.0\n",
      "3 55.599999999999994\n",
      "4 70.0\n"
     ]
    },
    {
     "data": {
      "text/plain": [
       "4"
      ]
     },
     "execution_count": 258,
     "metadata": {},
     "output_type": "execute_result"
    }
   ],
   "source": [
    "for percentile in range(101):\n",
    "    q_percentile = np.percentile(calorie_stats, percentile)\n",
    "    print(percentile, q_percentile)\n",
    "    if q_percentile > 60: \n",
    "        nth_percentile = percentile\n",
    "        break\n",
    "\n",
    "nth_percentile"
   ]
  },
  {
   "cell_type": "markdown",
   "id": "a2a3c5aa",
   "metadata": {},
   "source": [
    "6. Хотя процентиль показывает нам, что у большинства конкурентов количество калорий намного выше, это неудобная концепция для использования в маркетинговых материалах.\n",
    "\n",
    "Вместо этого давайте подсчитаем процент хлопьев, в которых содержится более 60 калорий на порцию. Сохраните свой ответ в переменной more_calories и распечатайте его"
   ]
  },
  {
   "cell_type": "code",
   "execution_count": 259,
   "id": "ade0f6ea",
   "metadata": {},
   "outputs": [
    {
     "data": {
      "text/plain": [
       "96.1"
      ]
     },
     "execution_count": 259,
     "metadata": {},
     "output_type": "execute_result"
    }
   ],
   "source": [
    "more_calories = round(100 * np.sum(calorie_stats > 60) / len(calorie_stats), 2)  \n",
    "more_calories"
   ]
  },
  {
   "cell_type": "markdown",
   "id": "1735d65b",
   "metadata": {},
   "source": [
    "7. Это действительно высокий процент. Это будет очень полезно, когда мы будем продвигать CrunchieMunchies. Но один вопрос заключается в том, насколько велики различия в наборе данных? Можем ли мы сделать обобщение, что в большинстве злаков содержится около 100 калорий или разброс еще больше?\n",
    "\n",
    "Рассчитайте величину отклонения, найдя стандартное отклонение, Сохраните свой ответ в calorie_std и распечатайте на терминале. Как мы можем включить эту ценность в наш анализ?"
   ]
  },
  {
   "cell_type": "code",
   "execution_count": 260,
   "id": "85c8df1f",
   "metadata": {},
   "outputs": [
    {
     "data": {
      "text/plain": [
       "19.35718533390827"
      ]
     },
     "execution_count": 260,
     "metadata": {},
     "output_type": "execute_result"
    }
   ],
   "source": [
    "calorie_std = np.std(calorie_stats)\n",
    "calorie_std"
   ]
  },
  {
   "cell_type": "markdown",
   "id": "037455c5",
   "metadata": {},
   "source": [
    "8. Напишите короткий абзац, в котором кратко изложите свои выводы и то, как, по вашему мнению, эти данные могут быть использованы в интересах Mycrunch при маркетинге CrunchieMunchies."
   ]
  },
  {
   "cell_type": "code",
   "execution_count": 261,
   "id": "c260fee9",
   "metadata": {},
   "outputs": [],
   "source": [
    "# Компания может позиционировать себя на рынке как бренд диетический хлопьев, т.к. ее хлопья имеют меньше калорий чем подавляющее большиство на рынке. "
   ]
  }
 ],
 "metadata": {
  "kernelspec": {
   "display_name": "Python 3",
   "language": "python",
   "name": "python3"
  },
  "language_info": {
   "codemirror_mode": {
    "name": "ipython",
    "version": 3
   },
   "file_extension": ".py",
   "mimetype": "text/x-python",
   "name": "python",
   "nbconvert_exporter": "python",
   "pygments_lexer": "ipython3",
   "version": "3.8.10"
  },
  "vscode": {
   "interpreter": {
    "hash": "31f2aee4e71d21fbe5cf8b01ff0e069b9275f58929596ceb00d14d90e3e16cd6"
   }
  }
 },
 "nbformat": 4,
 "nbformat_minor": 5
}
